{
 "cells": [
  {
   "cell_type": "markdown",
   "metadata": {},
   "source": [
    "# Classifying the Iris Dataset Using a Pure Numpy Artificial Neural Network\n",
    "### By Alejandro Fosado"
   ]
  },
  {
   "cell_type": "markdown",
   "metadata": {},
   "source": [
    "In this project I have created a single hidden layer neural network using only numpy. All fucntions to compute gradients were implemented using numpy math functions. Using the Iris dataset to test the neural network, the model achieved high accuracy on both the training and test set. While this could easily be done in pytorch, I believe this project shows a deep understanding of neural networks and the math behind the model."
   ]
  },
  {
   "cell_type": "code",
   "execution_count": 1,
   "metadata": {},
   "outputs": [],
   "source": [
    "import pandas as pd\n",
    "import numpy as np\n",
    "import matplotlib.pyplot as plt\n",
    "from sklearn.model_selection import train_test_split"
   ]
  },
  {
   "cell_type": "markdown",
   "metadata": {},
   "source": [
    "Here the artificial neural network class is defined to mimic the sklearn interface. This is so the class is easy to use by simply instanciating the class then calling the fit function. Score and predict functions are also included so the model's accuracy can be tested."
   ]
  },
  {
   "cell_type": "code",
   "execution_count": 2,
   "metadata": {},
   "outputs": [],
   "source": [
    "class ANN():\n",
    "    def __init__(self, M, K):\n",
    "        #initialize with number of hidden nodes and number of classification groups\n",
    "        self.M = M\n",
    "        self.K = K\n",
    "    \n",
    "    def fit(self, X, Y):\n",
    "        #N-> number of points, D-> number of dimensions of X\n",
    "        self.X = X\n",
    "        self.Y = Y\n",
    "        N, D = X.shape\n",
    "        \n",
    "        #M-> number of hidden nodes, K-> number of groups\n",
    "        M = self.M\n",
    "        K = self.K\n",
    "        \n",
    "        #initialize weights\n",
    "        self.w1 = np.random.randn(D, M)/np.sqrt(D)\n",
    "        self.b1 = np.random.randn(M)\n",
    "        self.w2 = np.random.randn(M, K)/np.sqrt(M)\n",
    "        self.b2 = np.random.randn(K)\n",
    "        \n",
    "        #number of iterations and learning rate (optimal hypers)\n",
    "        epochs = 4000\n",
    "        learning_rate = 10e-5\n",
    "        train_loss = []\n",
    "        train_score = []\n",
    "        \n",
    "        #training loop\n",
    "        for i in range(epochs):\n",
    "            #call forward function to get values needed to compute gradients\n",
    "            Yhat, Z = self.forward(self.X)\n",
    "            \n",
    "            #perform gradient decent (backpropigation)\n",
    "            self.w1 -= learning_rate*self.w1_derivative(Yhat, Z)\n",
    "            self.b1 -= learning_rate*self.b1_derivative(Yhat, Z)\n",
    "            self.w2 -= learning_rate*self.w2_derivative(Yhat, Z)\n",
    "            self.b2 -= learning_rate*self.b2_derivative(Yhat)\n",
    "            if i%10 == 0:\n",
    "                #keeping track of loss and score each ten iterations\n",
    "                train_loss.append(self.loss(Yhat, self.Y))\n",
    "                train_score.append(self.score(self.X, self.Y))\n",
    "        #plotting graphs of the changes in loss and score\n",
    "        plt.plot(train_loss)\n",
    "        plt.xlabel('Iterations')\n",
    "        plt.ylabel('Loss')\n",
    "        plt.show()\n",
    "        plt.plot(train_score)\n",
    "        plt.xlabel('Iterations')\n",
    "        plt.ylabel('Accuracy (%)')\n",
    "        plt.show()\n",
    "            \n",
    "    def forward(self, X):\n",
    "        #forward computation of output values\n",
    "        Z = np.tanh(X.dot(self.w1) + self.b1)\n",
    "        Yhat = self.softmax(Z.dot(self.w2) + self.b2)\n",
    "        return Yhat, Z\n",
    "        \n",
    "    def predict(self, X):\n",
    "        #predict class based on most likely group\n",
    "        Yhat, _ = self.forward(X)\n",
    "        return np.argmax(Yhat, axis=1)\n",
    "    \n",
    "    def score(self, X, Y):\n",
    "        #percentage of predictions correct\n",
    "        return np.mean(self.predict(X)==np.argmax(Y, axis=1))\n",
    "    \n",
    "    def loss(self, Yhat, Y):\n",
    "        #multi-class cross-entropy loss function\n",
    "        return -(Y*np.log(Yhat)).mean()\n",
    "    \n",
    "    def softmax(self, Yhat):\n",
    "        #softmax implementaion\n",
    "        return np.exp(Yhat)/np.exp(Yhat).sum(axis=1, keepdims=True)\n",
    "    \n",
    "    def w1_derivative(self, Yhat, Z):\n",
    "        #derivative of the first set of weights used to compute the gradient\n",
    "        inner = ((self.Y-Yhat).dot(self.w2.T))*(1-Z*Z)\n",
    "        grad = -self.X.T.dot(inner)\n",
    "        return grad\n",
    "    \n",
    "    def b1_derivative(self, Yhat, Z):\n",
    "        #derivative of the first set of bias weights used to compute the gradient\n",
    "        return -np.sum(((self.Y-Yhat).dot(self.w2.T))*(1-Z*Z), axis=0)\n",
    "    \n",
    "    def w2_derivative(self, Yhat, Z):\n",
    "        #derivative of the second set of weights used to compute the gradient\n",
    "        return -Z.T.dot(self.Y-Yhat)\n",
    "    \n",
    "    def b2_derivative(self, Yhat):\n",
    "        #derivative of the second set of bias weights used to compute the gradient\n",
    "        return -np.sum(self.Y-Yhat, axis=0)"
   ]
  },
  {
   "cell_type": "markdown",
   "metadata": {},
   "source": [
    "Now we read in the iris data set to test the neural network."
   ]
  },
  {
   "cell_type": "code",
   "execution_count": 3,
   "metadata": {},
   "outputs": [
    {
     "data": {
      "text/html": [
       "<div>\n",
       "<style scoped>\n",
       "    .dataframe tbody tr th:only-of-type {\n",
       "        vertical-align: middle;\n",
       "    }\n",
       "\n",
       "    .dataframe tbody tr th {\n",
       "        vertical-align: top;\n",
       "    }\n",
       "\n",
       "    .dataframe thead th {\n",
       "        text-align: right;\n",
       "    }\n",
       "</style>\n",
       "<table border=\"1\" class=\"dataframe\">\n",
       "  <thead>\n",
       "    <tr style=\"text-align: right;\">\n",
       "      <th></th>\n",
       "      <th>Id</th>\n",
       "      <th>SepalLengthCm</th>\n",
       "      <th>SepalWidthCm</th>\n",
       "      <th>PetalLengthCm</th>\n",
       "      <th>PetalWidthCm</th>\n",
       "      <th>Species</th>\n",
       "    </tr>\n",
       "  </thead>\n",
       "  <tbody>\n",
       "    <tr>\n",
       "      <th>0</th>\n",
       "      <td>1</td>\n",
       "      <td>5.1</td>\n",
       "      <td>3.5</td>\n",
       "      <td>1.4</td>\n",
       "      <td>0.2</td>\n",
       "      <td>Iris-setosa</td>\n",
       "    </tr>\n",
       "    <tr>\n",
       "      <th>1</th>\n",
       "      <td>2</td>\n",
       "      <td>4.9</td>\n",
       "      <td>3.0</td>\n",
       "      <td>1.4</td>\n",
       "      <td>0.2</td>\n",
       "      <td>Iris-setosa</td>\n",
       "    </tr>\n",
       "    <tr>\n",
       "      <th>2</th>\n",
       "      <td>3</td>\n",
       "      <td>4.7</td>\n",
       "      <td>3.2</td>\n",
       "      <td>1.3</td>\n",
       "      <td>0.2</td>\n",
       "      <td>Iris-setosa</td>\n",
       "    </tr>\n",
       "    <tr>\n",
       "      <th>3</th>\n",
       "      <td>4</td>\n",
       "      <td>4.6</td>\n",
       "      <td>3.1</td>\n",
       "      <td>1.5</td>\n",
       "      <td>0.2</td>\n",
       "      <td>Iris-setosa</td>\n",
       "    </tr>\n",
       "    <tr>\n",
       "      <th>4</th>\n",
       "      <td>5</td>\n",
       "      <td>5.0</td>\n",
       "      <td>3.6</td>\n",
       "      <td>1.4</td>\n",
       "      <td>0.2</td>\n",
       "      <td>Iris-setosa</td>\n",
       "    </tr>\n",
       "  </tbody>\n",
       "</table>\n",
       "</div>"
      ],
      "text/plain": [
       "   Id  SepalLengthCm  SepalWidthCm  PetalLengthCm  PetalWidthCm      Species\n",
       "0   1            5.1           3.5            1.4           0.2  Iris-setosa\n",
       "1   2            4.9           3.0            1.4           0.2  Iris-setosa\n",
       "2   3            4.7           3.2            1.3           0.2  Iris-setosa\n",
       "3   4            4.6           3.1            1.5           0.2  Iris-setosa\n",
       "4   5            5.0           3.6            1.4           0.2  Iris-setosa"
      ]
     },
     "execution_count": 3,
     "metadata": {},
     "output_type": "execute_result"
    }
   ],
   "source": [
    "df = pd.read_csv('../iris.csv')\n",
    "df.head()"
   ]
  },
  {
   "cell_type": "markdown",
   "metadata": {},
   "source": [
    "Now we do some data cleaning to one hot encode the Species column. "
   ]
  },
  {
   "cell_type": "code",
   "execution_count": 4,
   "metadata": {},
   "outputs": [
    {
     "data": {
      "text/html": [
       "<div>\n",
       "<style scoped>\n",
       "    .dataframe tbody tr th:only-of-type {\n",
       "        vertical-align: middle;\n",
       "    }\n",
       "\n",
       "    .dataframe tbody tr th {\n",
       "        vertical-align: top;\n",
       "    }\n",
       "\n",
       "    .dataframe thead th {\n",
       "        text-align: right;\n",
       "    }\n",
       "</style>\n",
       "<table border=\"1\" class=\"dataframe\">\n",
       "  <thead>\n",
       "    <tr style=\"text-align: right;\">\n",
       "      <th></th>\n",
       "      <th>SepalLengthCm</th>\n",
       "      <th>SepalWidthCm</th>\n",
       "      <th>PetalLengthCm</th>\n",
       "      <th>PetalWidthCm</th>\n",
       "      <th>Species</th>\n",
       "    </tr>\n",
       "  </thead>\n",
       "  <tbody>\n",
       "    <tr>\n",
       "      <th>0</th>\n",
       "      <td>5.1</td>\n",
       "      <td>3.5</td>\n",
       "      <td>1.4</td>\n",
       "      <td>0.2</td>\n",
       "      <td>0</td>\n",
       "    </tr>\n",
       "    <tr>\n",
       "      <th>1</th>\n",
       "      <td>4.9</td>\n",
       "      <td>3.0</td>\n",
       "      <td>1.4</td>\n",
       "      <td>0.2</td>\n",
       "      <td>0</td>\n",
       "    </tr>\n",
       "    <tr>\n",
       "      <th>2</th>\n",
       "      <td>4.7</td>\n",
       "      <td>3.2</td>\n",
       "      <td>1.3</td>\n",
       "      <td>0.2</td>\n",
       "      <td>0</td>\n",
       "    </tr>\n",
       "    <tr>\n",
       "      <th>3</th>\n",
       "      <td>4.6</td>\n",
       "      <td>3.1</td>\n",
       "      <td>1.5</td>\n",
       "      <td>0.2</td>\n",
       "      <td>0</td>\n",
       "    </tr>\n",
       "    <tr>\n",
       "      <th>4</th>\n",
       "      <td>5.0</td>\n",
       "      <td>3.6</td>\n",
       "      <td>1.4</td>\n",
       "      <td>0.2</td>\n",
       "      <td>0</td>\n",
       "    </tr>\n",
       "  </tbody>\n",
       "</table>\n",
       "</div>"
      ],
      "text/plain": [
       "   SepalLengthCm  SepalWidthCm  PetalLengthCm  PetalWidthCm  Species\n",
       "0            5.1           3.5            1.4           0.2        0\n",
       "1            4.9           3.0            1.4           0.2        0\n",
       "2            4.7           3.2            1.3           0.2        0\n",
       "3            4.6           3.1            1.5           0.2        0\n",
       "4            5.0           3.6            1.4           0.2        0"
      ]
     },
     "execution_count": 4,
     "metadata": {},
     "output_type": "execute_result"
    }
   ],
   "source": [
    "#Give groups numbers and remove id column\n",
    "group_to_num = {'Iris-setosa':0, 'Iris-versicolor':1, 'Iris-virginica':2}\n",
    "df['Species'] = df['Species'].apply(lambda x: group_to_num[x])\n",
    "df = df.iloc[:,1:]\n",
    "df.head()"
   ]
  },
  {
   "cell_type": "code",
   "execution_count": 5,
   "metadata": {},
   "outputs": [],
   "source": [
    "#One hot encode group\n",
    "one_hot = np.zeros((len(df), 3))\n",
    "y_vals = df['Species'].values\n",
    "for i in range(len(df)):\n",
    "    one_hot[i, y_vals[i]] = 1"
   ]
  },
  {
   "cell_type": "code",
   "execution_count": 6,
   "metadata": {},
   "outputs": [],
   "source": [
    "#join one hot encoding with data\n",
    "vals = df.values[:,:-1]\n",
    "vals = np.concatenate((vals, one_hot), axis=1)"
   ]
  },
  {
   "cell_type": "markdown",
   "metadata": {},
   "source": [
    "Now we split the data into a train and test set and train the model."
   ]
  },
  {
   "cell_type": "code",
   "execution_count": 7,
   "metadata": {},
   "outputs": [],
   "source": [
    "#split into train and test sets and stratify by species\n",
    "X_train, X_test, y_train, y_test = train_test_split(vals[:, :-3], vals[:, -3:], stratify=df.Species)"
   ]
  },
  {
   "cell_type": "code",
   "execution_count": 8,
   "metadata": {},
   "outputs": [
    {
     "data": {
      "image/png": "[encoded data removed]",
      "text/plain": [
       "<Figure size 432x288 with 1 Axes>"
      ]
     },
     "metadata": {
      "needs_background": "light"
     },
     "output_type": "display_data"
    },
    {
     "data": {
      "image/png": "[encoded data removed]",
      "text/plain": [
       "<Figure size 432x288 with 1 Axes>"
      ]
     },
     "metadata": {
      "needs_background": "light"
     },
     "output_type": "display_data"
    }
   ],
   "source": [
    "#instanciate ANN with 50 hidden nodes (optimal hyper) and train\n",
    "model = ANN(50, len(y_train[0]))\n",
    "model.fit(X_train, y_train)"
   ]
  },
  {
   "cell_type": "markdown",
   "metadata": {},
   "source": [
    "As we can see above, the loss steadily decreases and the accuracy quickly approaches 95% then increases a little more. From this it is clear that the model is working correctly."
   ]
  },
  {
   "cell_type": "code",
   "execution_count": 12,
   "metadata": {},
   "outputs": [
    {
     "name": "stdout",
     "output_type": "stream",
     "text": [
      "The training set is predicted with 98.21% accuracy.\n",
      "The test set is predicted 97.37% accuracy.\n"
     ]
    }
   ],
   "source": [
    "print('The training set is predicted with {0:.2f}% accuracy.'.format(model.score(X_train, y_train)*100))\n",
    "print('The test set is predicted {0:.2f}% accuracy.'.format(model.score(X_test, y_test)*100))"
   ]
  },
  {
   "cell_type": "markdown",
   "metadata": {},
   "source": [
    "The model does very well predicting the labels of the training data with a little over 98% accuracy. The model does not seem to overfit as the test data's labels are predicted with a little over 97% accuracy."
   ]
  },
  {
   "cell_type": "code",
   "execution_count": null,
   "metadata": {},
   "outputs": [],
   "source": []
  }
 ],
 "metadata": {
  "kernelspec": {
   "display_name": "Python 3",
   "language": "python",
   "name": "python3"
  },
  "language_info": {
   "codemirror_mode": {
    "name": "ipython",
    "version": 3
   },
   "file_extension": ".py",
   "mimetype": "text/x-python",
   "name": "python",
   "nbconvert_exporter": "python",
   "pygments_lexer": "ipython3",
   "version": "3.6.3"
  }
 },
 "nbformat": 4,
 "nbformat_minor": 2
}
